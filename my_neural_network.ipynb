{
 "cells": [
  {
   "cell_type": "code",
   "execution_count": 1,
   "id": "29d982d7-4438-4e4a-a030-79cbe713a961",
   "metadata": {},
   "outputs": [],
   "source": [
    "import numpy as np\n",
    "import nnfs\n",
    "from nnfs.datasets import spiral_data"
   ]
  },
  {
   "cell_type": "code",
   "execution_count": 2,
   "id": "432f2d35-9e01-4461-8e74-15b9c51c4f84",
   "metadata": {},
   "outputs": [],
   "source": [
    "nnfs.init()"
   ]
  },
  {
   "cell_type": "code",
   "execution_count": 16,
   "id": "26a79a56-f3b5-4d9b-9e79-c40de333eb3b",
   "metadata": {},
   "outputs": [],
   "source": [
    "class LayerDense:\n",
    "    \n",
    "    def __init__(self, n_inputs, n_neurons):\n",
    "        # Initialize weights and biases\n",
    "        self.weights = 0.01 * np.random.randn(n_neurons, n_inputs)\n",
    "        self.biases = np.zeros((1, n_neurons))\n",
    "        \n",
    "    def forward(self, inputs):\n",
    "        # Calculate output values from inputs, weights and biases\n",
    "        self.output = np.dot(inputs, np.transpose(self.weights)) + self.biases\n"
   ]
  },
  {
   "cell_type": "code",
   "execution_count": 27,
   "id": "c3f9cc6b-74e8-4fec-bc79-c2fe62f31323",
   "metadata": {},
   "outputs": [],
   "source": [
    "class ActivationRelu:\n",
    "    # Forward pass\n",
    "    def forward(self, inputs):\n",
    "        # Calculate output values from input\n",
    "        self.output = np.maximum(0, inputs)"
   ]
  },
  {
   "cell_type": "code",
   "execution_count": 25,
   "id": "a83785f5-98c1-4939-92bf-e82123de48d8",
   "metadata": {},
   "outputs": [],
   "source": [
    "class ActivationSoftmax:\n",
    "    def forward(self, inputs):\n",
    "        # Get unnormalized probabilities\n",
    "        exp_values = np.exp(inputs - np.max(inputs, axis=1, keepdims=True))\n",
    "        \n",
    "        # Normalize them for each sample\n",
    "        probabilities = exp_values / np.sum(exp_values, axis=1, keepdims=True)\n",
    "        \n",
    "        self.output = probabilities"
   ]
  },
  {
   "cell_type": "code",
   "execution_count": 26,
   "id": "dd32e802-7a2a-4e83-95ff-38db8f41ee14",
   "metadata": {
    "tags": []
   },
   "outputs": [],
   "source": [
    "X, y = spiral_data(samples=100, classes=3)"
   ]
  },
  {
   "cell_type": "code",
   "execution_count": 29,
   "id": "9732e193-30b0-4468-8f51-6a43a7491dbc",
   "metadata": {},
   "outputs": [],
   "source": [
    "dense1 = LayerDense(2, 3)\n",
    "activation1 = ActivationRelu()"
   ]
  },
  {
   "cell_type": "code",
   "execution_count": 30,
   "id": "1b4e6604-1978-46c7-806d-8b4ee5063fba",
   "metadata": {},
   "outputs": [],
   "source": [
    "dense1.forward(X)\n",
    "activation1.forward(dense1.output)"
   ]
  },
  {
   "cell_type": "code",
   "execution_count": 32,
   "id": "b7deb6c9-9174-4924-803d-e8e2a33d8379",
   "metadata": {},
   "outputs": [],
   "source": [
    "dense2 = LayerDense(3, 3)\n",
    "activation2 = ActivationSoftmax()"
   ]
  },
  {
   "cell_type": "code",
   "execution_count": 34,
   "id": "a1a53b0e-7369-453b-a032-2b90b2330b4f",
   "metadata": {},
   "outputs": [],
   "source": [
    "dense2.forward(activation1.output)\n",
    "activation2.forward(dense2.output)"
   ]
  },
  {
   "cell_type": "code",
   "execution_count": 35,
   "id": "8fd3065c-67a2-47a7-81ed-ae16854e5ab9",
   "metadata": {},
   "outputs": [
    {
     "data": {
      "text/plain": [
       "array([[0.33333334, 0.33333334, 0.33333334],\n",
       "       [0.33333334, 0.33333313, 0.33333355],\n",
       "       [0.3333333 , 0.333333  , 0.33333373],\n",
       "       [0.3333333 , 0.33333275, 0.3333339 ],\n",
       "       [0.3333333 , 0.33333263, 0.3333341 ]], dtype=float32)"
      ]
     },
     "execution_count": 35,
     "metadata": {},
     "output_type": "execute_result"
    }
   ],
   "source": [
    "activation2.output[:5]"
   ]
  },
  {
   "cell_type": "code",
   "execution_count": null,
   "id": "d160f363-00b4-477d-b118-acfe6e12a9dc",
   "metadata": {},
   "outputs": [],
   "source": []
  }
 ],
 "metadata": {
  "kernelspec": {
   "display_name": "Python 3 (ipykernel)",
   "language": "python",
   "name": "python3"
  },
  "language_info": {
   "codemirror_mode": {
    "name": "ipython",
    "version": 3
   },
   "file_extension": ".py",
   "mimetype": "text/x-python",
   "name": "python",
   "nbconvert_exporter": "python",
   "pygments_lexer": "ipython3",
   "version": "3.9.13"
  }
 },
 "nbformat": 4,
 "nbformat_minor": 5
}
