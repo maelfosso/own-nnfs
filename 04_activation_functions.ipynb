{
 "cells": [
  {
   "cell_type": "markdown",
   "id": "e3a70c5d-5871-4bc3-bd86-71c50d065f5a",
   "metadata": {},
   "source": [
    "# The softmax activation function"
   ]
  },
  {
   "cell_type": "code",
   "execution_count": 1,
   "id": "15babff8-c7e0-422c-a05d-1a7d19453a8c",
   "metadata": {},
   "outputs": [],
   "source": [
    "import numpy as np"
   ]
  },
  {
   "cell_type": "code",
   "execution_count": 2,
   "id": "dddf9715-8cc0-4987-a218-e3e791c3980b",
   "metadata": {},
   "outputs": [],
   "source": [
    "layer_outputs = [4.8, 1.21, 2.385]"
   ]
  },
  {
   "cell_type": "code",
   "execution_count": 3,
   "id": "b738b31e-7ac0-415e-be57-1945f47ed784",
   "metadata": {},
   "outputs": [
    {
     "data": {
      "text/plain": [
       "array([121.51041752,   3.35348465,  10.85906266])"
      ]
     },
     "execution_count": 3,
     "metadata": {},
     "output_type": "execute_result"
    }
   ],
   "source": [
    "exp_values = np.exp(layer_outputs)\n",
    "exp_values"
   ]
  },
  {
   "cell_type": "code",
   "execution_count": 4,
   "id": "ff99b59b-0f59-4f50-bf54-a2a752718493",
   "metadata": {},
   "outputs": [
    {
     "data": {
      "text/plain": [
       "array([0.89528266, 0.02470831, 0.08000903])"
      ]
     },
     "execution_count": 4,
     "metadata": {},
     "output_type": "execute_result"
    }
   ],
   "source": [
    "norm_values = exp_values / np.sum(exp_values)\n",
    "norm_values"
   ]
  },
  {
   "cell_type": "code",
   "execution_count": 5,
   "id": "6741f4bf-d435-46cb-8f03-0e2e48e3eec3",
   "metadata": {},
   "outputs": [
    {
     "data": {
      "text/plain": [
       "0.9999999999999999"
      ]
     },
     "execution_count": 5,
     "metadata": {},
     "output_type": "execute_result"
    }
   ],
   "source": [
    "np.sum(norm_values)"
   ]
  },
  {
   "cell_type": "code",
   "execution_count": 6,
   "id": "9bd3082c-64ac-4d2d-8dcd-28698439d9da",
   "metadata": {},
   "outputs": [],
   "source": [
    "layer_outputs = np.array([[4.8, 1.21, 2.385],\n",
    "                         [8.9, -1.81, 0.2],\n",
    "                         [1.41, 1.051, 0.026]])"
   ]
  },
  {
   "cell_type": "code",
   "execution_count": 7,
   "id": "775c76ec-d44b-4663-8a84-3395258b0406",
   "metadata": {},
   "outputs": [
    {
     "name": "stdout",
     "output_type": "stream",
     "text": [
      "18.172\n"
     ]
    }
   ],
   "source": [
    "print(np.sum(layer_outputs))"
   ]
  },
  {
   "cell_type": "code",
   "execution_count": 8,
   "id": "1ca47811-13bb-45f8-8114-f48ce50b165e",
   "metadata": {},
   "outputs": [
    {
     "data": {
      "text/plain": [
       "18.172"
      ]
     },
     "execution_count": 8,
     "metadata": {},
     "output_type": "execute_result"
    }
   ],
   "source": [
    "np.sum(layer_outputs, axis=None)"
   ]
  },
  {
   "cell_type": "code",
   "execution_count": 15,
   "id": "cb494b2e-66b9-40bf-8220-21e7fb74b08d",
   "metadata": {},
   "outputs": [
    {
     "data": {
      "text/plain": [
       "array([[1.21510418e+02, 3.35348465e+00, 1.08590627e+01],\n",
       "       [7.33197354e+03, 1.63654137e-01, 1.22140276e+00],\n",
       "       [4.09595540e+00, 2.86051020e+00, 1.02634095e+00]])"
      ]
     },
     "execution_count": 15,
     "metadata": {},
     "output_type": "execute_result"
    }
   ],
   "source": [
    "exp_layer_outputs = np.exp(layer_outputs)\n",
    "exp_layer_outputs"
   ]
  },
  {
   "cell_type": "code",
   "execution_count": 16,
   "id": "86515f92-543b-43ba-82ad-981a314f7096",
   "metadata": {},
   "outputs": [
    {
     "data": {
      "text/plain": [
       "array([[1.62510862e-02, 4.48502847e-04, 1.45231633e-03],\n",
       "       [9.80595215e-01, 2.18874853e-05, 1.63353249e-04],\n",
       "       [5.47802614e-04, 3.82571295e-04, 1.37265228e-04]])"
      ]
     },
     "execution_count": 16,
     "metadata": {},
     "output_type": "execute_result"
    }
   ],
   "source": [
    "exp_layer_outputs/np.sum(exp_layer_outputs, axis=None)"
   ]
  },
  {
   "cell_type": "code",
   "execution_count": 17,
   "id": "8057eb19-2792-4352-afea-e64164780299",
   "metadata": {},
   "outputs": [
    {
     "data": {
      "text/plain": [
       "1.0"
      ]
     },
     "execution_count": 17,
     "metadata": {},
     "output_type": "execute_result"
    }
   ],
   "source": [
    "np.sum(exp_layer_outputs/np.sum(exp_layer_outputs, axis=None))"
   ]
  },
  {
   "cell_type": "code",
   "execution_count": 20,
   "id": "367a88d5-8042-4cb5-892e-b6a71231d755",
   "metadata": {},
   "outputs": [
    {
     "data": {
      "text/plain": [
       "array([[1.62935455e-02, 5.25818316e-01, 8.28505614e-01],\n",
       "       [9.83157221e-01, 2.56605745e-02, 9.31884338e-02],\n",
       "       [5.49233860e-04, 4.48521109e-01, 7.83059518e-02]])"
      ]
     },
     "execution_count": 20,
     "metadata": {},
     "output_type": "execute_result"
    }
   ],
   "source": [
    "exp_layer_outputs/np.sum(exp_layer_outputs, axis=0)"
   ]
  },
  {
   "cell_type": "code",
   "execution_count": 19,
   "id": "9bcbf26d-0b33-463f-a946-071012b38f43",
   "metadata": {},
   "outputs": [
    {
     "data": {
      "text/plain": [
       "array([1., 1., 1.])"
      ]
     },
     "execution_count": 19,
     "metadata": {},
     "output_type": "execute_result"
    }
   ],
   "source": [
    "np.sum(exp_layer_outputs/np.sum(exp_layer_outputs, axis=0), axis=0)"
   ]
  },
  {
   "cell_type": "code",
   "execution_count": 22,
   "id": "1695e251-0f15-4277-857c-0d4351478a93",
   "metadata": {},
   "outputs": [
    {
     "data": {
      "text/plain": [
       "array([8.395, 7.29 , 2.487])"
      ]
     },
     "execution_count": 22,
     "metadata": {},
     "output_type": "execute_result"
    }
   ],
   "source": [
    "np.sum(layer_outputs, axis=1)"
   ]
  },
  {
   "cell_type": "code",
   "execution_count": 23,
   "id": "caa4b71a-7aeb-4cab-9642-0cdde88a7150",
   "metadata": {},
   "outputs": [
    {
     "data": {
      "text/plain": [
       "8.395"
      ]
     },
     "execution_count": 23,
     "metadata": {},
     "output_type": "execute_result"
    }
   ],
   "source": [
    "np.sum(layer_outputs[0])"
   ]
  },
  {
   "cell_type": "code",
   "execution_count": 24,
   "id": "520b3a98-49ff-41f0-bcba-dbd134e9e7c3",
   "metadata": {},
   "outputs": [
    {
     "data": {
      "text/plain": [
       "array([4.8  , 1.21 , 2.385])"
      ]
     },
     "execution_count": 24,
     "metadata": {},
     "output_type": "execute_result"
    }
   ],
   "source": [
    "layer_outputs[0]"
   ]
  },
  {
   "cell_type": "code",
   "execution_count": 25,
   "id": "0ea94b51-9548-4023-bdbb-e7be500ca0fc",
   "metadata": {},
   "outputs": [
    {
     "data": {
      "text/plain": [
       "array([15.11 ,  0.451,  2.611])"
      ]
     },
     "execution_count": 25,
     "metadata": {},
     "output_type": "execute_result"
    }
   ],
   "source": [
    "np.sum(layer_outputs, axis=0)"
   ]
  },
  {
   "cell_type": "code",
   "execution_count": 26,
   "id": "9dfd6f96-5093-469b-bba9-a86ec698cf53",
   "metadata": {},
   "outputs": [],
   "source": [
    "class ActivationSoftmax:\n",
    "    def forward(self, inputs):\n",
    "        # Get unnormalized probabilities\n",
    "        exp_values = np.exp(inputs - np.max(inputs, axis=1, keepdims=True))\n",
    "        \n",
    "        # Normalize them for each sample\n",
    "        probabilities = exp_values / np.sum(exp_values, axis=1, keepdims=True)\n",
    "        \n",
    "        self.output = probabilities"
   ]
  },
  {
   "cell_type": "code",
   "execution_count": 27,
   "id": "150f50a9-1d41-49ad-bc83-59f5f19346b2",
   "metadata": {},
   "outputs": [
    {
     "data": {
      "text/plain": [
       "2.718281828459045"
      ]
     },
     "execution_count": 27,
     "metadata": {},
     "output_type": "execute_result"
    }
   ],
   "source": [
    "np.exp(1)"
   ]
  },
  {
   "cell_type": "code",
   "execution_count": 28,
   "id": "c8ca9c70-1ec4-441f-b866-8da12a539777",
   "metadata": {},
   "outputs": [
    {
     "data": {
      "text/plain": [
       "22026.465794806718"
      ]
     },
     "execution_count": 28,
     "metadata": {},
     "output_type": "execute_result"
    }
   ],
   "source": [
    "np.exp(10)"
   ]
  },
  {
   "cell_type": "code",
   "execution_count": 29,
   "id": "694cee7e-3bcb-46e6-81f8-9e70d74e07a8",
   "metadata": {},
   "outputs": [
    {
     "data": {
      "text/plain": [
       "2.6881171418161356e+43"
      ]
     },
     "execution_count": 29,
     "metadata": {},
     "output_type": "execute_result"
    }
   ],
   "source": [
    "np.exp(100)"
   ]
  },
  {
   "cell_type": "code",
   "execution_count": 30,
   "id": "33d2d8a8-1451-468e-a13e-127ac8a82af6",
   "metadata": {},
   "outputs": [
    {
     "name": "stderr",
     "output_type": "stream",
     "text": [
      "/var/folders/wr/cy7q4r6d4jz9c6t208k_b19r0000gn/T/ipykernel_6301/2006519253.py:1: RuntimeWarning: overflow encountered in exp\n",
      "  np.exp(1000)\n"
     ]
    },
    {
     "data": {
      "text/plain": [
       "inf"
      ]
     },
     "execution_count": 30,
     "metadata": {},
     "output_type": "execute_result"
    }
   ],
   "source": [
    "np.exp(1000)"
   ]
  },
  {
   "cell_type": "code",
   "execution_count": 32,
   "id": "3a8d6202-1bda-4e35-8a78-0bec13c6df6a",
   "metadata": {},
   "outputs": [
    {
     "data": {
      "text/plain": [
       "0.0"
      ]
     },
     "execution_count": 32,
     "metadata": {},
     "output_type": "execute_result"
    }
   ],
   "source": [
    "np.exp(-1000)"
   ]
  },
  {
   "cell_type": "code",
   "execution_count": 33,
   "id": "d217f739-a65c-47df-94dc-35940d895ef0",
   "metadata": {},
   "outputs": [
    {
     "data": {
      "text/plain": [
       "3.720075976020836e-44"
      ]
     },
     "execution_count": 33,
     "metadata": {},
     "output_type": "execute_result"
    }
   ],
   "source": [
    "np.exp(-100)"
   ]
  },
  {
   "cell_type": "code",
   "execution_count": 34,
   "id": "ee8db15a-0f21-4ea3-96aa-72c8086c85d8",
   "metadata": {},
   "outputs": [],
   "source": [
    "softmax = ActivationSoftmax()"
   ]
  },
  {
   "cell_type": "code",
   "execution_count": 36,
   "id": "a975fe94-2751-4e7c-9d83-c86d5d6edb28",
   "metadata": {},
   "outputs": [
    {
     "data": {
      "text/plain": [
       "array([[0.09003057, 0.24472847, 0.66524096]])"
      ]
     },
     "execution_count": 36,
     "metadata": {},
     "output_type": "execute_result"
    }
   ],
   "source": [
    "softmax.forward([[1, 2, 3]])\n",
    "softmax.output"
   ]
  },
  {
   "cell_type": "code",
   "execution_count": 45,
   "id": "33cc2cee-c2cc-432a-b0bd-7746e71367f3",
   "metadata": {},
   "outputs": [
    {
     "data": {
      "text/plain": [
       "array([[0.18632372, 0.30719589, 0.50648039]])"
      ]
     },
     "execution_count": 45,
     "metadata": {},
     "output_type": "execute_result"
    }
   ],
   "source": [
    "softmax.forward(np.array([[1, 2, 3]]) / 2.)\n",
    "softmax.output "
   ]
  },
  {
   "cell_type": "code",
   "execution_count": 44,
   "id": "8ce0419c-59b4-4e08-b6a3-b5d1c632b3f7",
   "metadata": {},
   "outputs": [
    {
     "data": {
      "text/plain": [
       "array([[0.5, 1. , 1.5]])"
      ]
     },
     "execution_count": 44,
     "metadata": {},
     "output_type": "execute_result"
    }
   ],
   "source": [
    "a = np.array([[1, 2, 3]])\n",
    "a/2."
   ]
  },
  {
   "cell_type": "code",
   "execution_count": 39,
   "id": "64b17438-11c4-408e-bef5-0108b08d6d92",
   "metadata": {},
   "outputs": [
    {
     "data": {
      "text/plain": [
       "array([2.40819096, 0.38306452, 0.20874452])"
      ]
     },
     "execution_count": 39,
     "metadata": {},
     "output_type": "execute_result"
    }
   ],
   "source": [
    "np.sum(softmax.output, axis=0)"
   ]
  },
  {
   "cell_type": "code",
   "execution_count": null,
   "id": "57170cb4-0128-497f-ae14-5b02f546673f",
   "metadata": {},
   "outputs": [],
   "source": []
  }
 ],
 "metadata": {
  "kernelspec": {
   "display_name": "Python 3 (ipykernel)",
   "language": "python",
   "name": "python3"
  },
  "language_info": {
   "codemirror_mode": {
    "name": "ipython",
    "version": 3
   },
   "file_extension": ".py",
   "mimetype": "text/x-python",
   "name": "python",
   "nbconvert_exporter": "python",
   "pygments_lexer": "ipython3",
   "version": "3.9.13"
  }
 },
 "nbformat": 4,
 "nbformat_minor": 5
}
